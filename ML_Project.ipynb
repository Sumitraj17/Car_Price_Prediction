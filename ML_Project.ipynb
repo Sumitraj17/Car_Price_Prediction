{
  "nbformat": 4,
  "nbformat_minor": 0,
  "metadata": {
    "colab": {
      "provenance": [],
      "authorship_tag": "ABX9TyP4gn5lnbp0Cbyf8xqNe1XB",
      "include_colab_link": true
    },
    "kernelspec": {
      "name": "python3",
      "display_name": "Python 3"
    },
    "language_info": {
      "name": "python"
    }
  },
  "cells": [
    {
      "cell_type": "markdown",
      "metadata": {
        "id": "view-in-github",
        "colab_type": "text"
      },
      "source": [
        "<a href=\"https://colab.research.google.com/github/Sumitraj17/Car_Price_Prediction/blob/main/ML_Project.ipynb\" target=\"_parent\"><img src=\"https://colab.research.google.com/assets/colab-badge.svg\" alt=\"Open In Colab\"/></a>"
      ]
    },
    {
      "cell_type": "code",
      "execution_count": 49,
      "metadata": {
        "id": "6weuG4b4gFE3"
      },
      "outputs": [],
      "source": [
        "#import required libraries\n",
        "import pandas as pd\n",
        "import matplotlib.pyplot as plt\n",
        "import seaborn as sns\n",
        "from sklearn.model_selection import train_test_split\n",
        "from sklearn.preprocessing import StandardScaler\n",
        "from sklearn.linear_model import LinearRegression\n",
        "from sklearn import metrics\n",
        "from matplotlib import style\n",
        "from sklearn.metrics import mean_absolute_error,mean_squared_error,r2_score"
      ]
    },
    {
      "cell_type": "code",
      "source": [
        "car_data = pd.read_csv(\"car data.csv\")\n",
        "car_data.head()"
      ],
      "metadata": {
        "id": "TOXRVbhokoda"
      },
      "execution_count": null,
      "outputs": []
    },
    {
      "cell_type": "code",
      "source": [
        "car_data.info()"
      ],
      "metadata": {
        "id": "U8b2pti8k4pK"
      },
      "execution_count": null,
      "outputs": []
    },
    {
      "cell_type": "code",
      "source": [
        "car_data.isnull().sum()"
      ],
      "metadata": {
        "id": "0VnV38gblFIp"
      },
      "execution_count": null,
      "outputs": []
    },
    {
      "cell_type": "code",
      "source": [
        "car_data.describe()"
      ],
      "metadata": {
        "id": "oKivX9pelQnh"
      },
      "execution_count": null,
      "outputs": []
    },
    {
      "cell_type": "code",
      "source": [
        "car_data.columns"
      ],
      "metadata": {
        "id": "lfDg2kNulVfD"
      },
      "execution_count": null,
      "outputs": []
    },
    {
      "cell_type": "code",
      "source": [
        "print(car_data['Fuel_Type'].value_counts())"
      ],
      "metadata": {
        "id": "T-oWWc9Gl39F"
      },
      "execution_count": null,
      "outputs": []
    },
    {
      "cell_type": "code",
      "source": [
        "print(car_data['Seller_Type'].value_counts())"
      ],
      "metadata": {
        "id": "95T98pqfmBQo"
      },
      "execution_count": null,
      "outputs": []
    },
    {
      "cell_type": "code",
      "source": [
        "print(car_data['Transmission'].value_counts())"
      ],
      "metadata": {
        "id": "v__3HTJ7manL"
      },
      "execution_count": null,
      "outputs": []
    },
    {
      "cell_type": "code",
      "source": [
        "fuel_type = car_data['Fuel_Type']\n",
        "seller_type= car_data['Seller_Type']\n",
        "transmission_type = car_data['Transmission']\n",
        "selling_price = car_data['Selling_Price']"
      ],
      "metadata": {
        "id": "DGmsSKk7mgZ_"
      },
      "execution_count": 17,
      "outputs": []
    },
    {
      "cell_type": "code",
      "source": [
        "style.use('ggplot')\n",
        "fig = plt.figure(figsize=(15,5))\n",
        "fig.suptitle('Visualizing Categorical data columns')\n",
        "plt.subplot(1,3,1)\n",
        "plt.bar(fuel_type,selling_price,color='royalblue')\n",
        "plt.xlabel(\"Fuel Type\")\n",
        "plt.ylabel(\"Selling price\")\n",
        "plt.subplot(1,3,2)\n",
        "plt.bar(seller_type,selling_price,color='red')\n",
        "plt.xlabel('Seller Type')\n",
        "plt.subplot(1,3,3)\n",
        "plt.bar(transmission_type,selling_price,color='purple')\n",
        "plt.xlabel('Transmission type')\n",
        "plt.show()"
      ],
      "metadata": {
        "id": "vzrywN3Ao75a"
      },
      "execution_count": null,
      "outputs": []
    },
    {
      "cell_type": "code",
      "source": [
        "fig,axes = plt.subplots(1,3,figsize=(15,5),sharey=True)\n",
        "fig.suptitle('Visualizing categorical columns')\n",
        "sns.barplot(x=fuel_type,y=selling_price,ax=axes[0])\n",
        "sns.barplot(x=seller_type,y=selling_price,ax=axes[1])\n",
        "sns.barplot(x=transmission_type,y=selling_price,ax=axes[2])"
      ],
      "metadata": {
        "id": "oGENaeiWrbMQ"
      },
      "execution_count": null,
      "outputs": []
    },
    {
      "cell_type": "code",
      "source": [
        "petrol_data = car_data.groupby('Fuel_Type').get_group('Petrol')\n",
        "petrol_data.describe()"
      ],
      "metadata": {
        "id": "Zqz0R3V7uJ_7"
      },
      "execution_count": null,
      "outputs": []
    },
    {
      "cell_type": "code",
      "source": [
        "seller_data = car_data.groupby('Seller_Type').get_group('Dealer')\n",
        "seller_data.describe()"
      ],
      "metadata": {
        "id": "FkT0Ttz5vaaE"
      },
      "execution_count": null,
      "outputs": []
    },
    {
      "cell_type": "code",
      "source": [
        "# manual encoding\n",
        "car_data.replace({'Fuel_Type':{'Petrol':0,\"Diesel\":1,'CNG':2}},inplace=True)\n",
        "# one hot encoding\n",
        "car_data = pd.get_dummies(car_data,columns=['Seller_Type','Transmission'],drop_first=True)"
      ],
      "metadata": {
        "id": "Va-cM1rqwG04"
      },
      "execution_count": 29,
      "outputs": []
    },
    {
      "cell_type": "code",
      "source": [
        "car_data.head()"
      ],
      "metadata": {
        "id": "YZppJmHHxSI2"
      },
      "execution_count": null,
      "outputs": []
    },
    {
      "cell_type": "code",
      "source": [
        "plt.figure(figsize=(10,7))\n",
        "sns.heatmap(car_data.corr(),annot=True)\n",
        "plt.title(\"Correlation between the columns\")\n",
        "plt.show()"
      ],
      "metadata": {
        "id": "VLqSsDvVxVzU"
      },
      "execution_count": null,
      "outputs": []
    },
    {
      "cell_type": "code",
      "source": [
        "fig=plt.figure(figsize=(7,5))\n",
        "plt.title('Correlation between present price and selling price')\n",
        "sns.regplot(x='Present_Price',y='Selling_Price',data=car_data)"
      ],
      "metadata": {
        "id": "0JoCrQ7kx8IX"
      },
      "execution_count": null,
      "outputs": []
    },
    {
      "cell_type": "code",
      "source": [
        "x = car_data.drop(['Car_Name','Selling_Price'],axis=1)\n",
        "y=car_data['Selling_Price']"
      ],
      "metadata": {
        "id": "QpuV9qDBy5QV"
      },
      "execution_count": 37,
      "outputs": []
    },
    {
      "cell_type": "code",
      "source": [
        "print(\"Shape of X is: \",x.shape)\n",
        "print(\"Shape of Y is: \",y.shape)"
      ],
      "metadata": {
        "id": "d5E7F5Lezirs"
      },
      "execution_count": null,
      "outputs": []
    },
    {
      "cell_type": "code",
      "source": [
        "x_train,x_test,y_train,y_test = train_test_split(x,y,test_size=0.3,random_state=42)"
      ],
      "metadata": {
        "id": "pcqIlIjgz2tn"
      },
      "execution_count": 59,
      "outputs": []
    },
    {
      "cell_type": "code",
      "source": [
        "print(\"X_test shape:- \",x_test.shape)\n",
        "print(\"X_test shape:- \",x_train.shape)\n",
        "print(\"y_test shape:- \",y_test.shape)\n",
        "print(\"y_train shape:- \",y_train.shape)"
      ],
      "metadata": {
        "id": "c29nN5Jsz_yh"
      },
      "execution_count": null,
      "outputs": []
    },
    {
      "cell_type": "code",
      "source": [
        "scaler = StandardScaler()"
      ],
      "metadata": {
        "id": "W2lVJDcA0g51"
      },
      "execution_count": null,
      "outputs": []
    },
    {
      "cell_type": "code",
      "source": [
        "x_train = scaler.fit_transform(x_train)\n",
        "x_test = scaler.transform(x_test)"
      ],
      "metadata": {
        "id": "ni4RHgMB0t7E"
      },
      "execution_count": 62,
      "outputs": []
    },
    {
      "cell_type": "code",
      "source": [
        "model = LinearRegression()"
      ],
      "metadata": {
        "id": "pYm4602H0-W3"
      },
      "execution_count": 63,
      "outputs": []
    },
    {
      "cell_type": "code",
      "source": [
        "model.fit(x_train,y_train)"
      ],
      "metadata": {
        "id": "0t76_g0w1C3z"
      },
      "execution_count": null,
      "outputs": []
    },
    {
      "cell_type": "code",
      "source": [
        "pred = model.predict(x_test)"
      ],
      "metadata": {
        "id": "lqU03tZC1HLx"
      },
      "execution_count": null,
      "outputs": []
    },
    {
      "cell_type": "code",
      "source": [
        "print(\"MAE: \",(metrics.mean_absolute_error(pred,y_test)))\n",
        "print(\"MSE: \",(metrics.mean_squared_error(pred,y_test)))\n",
        "print(\"R2 score \",(metrics.r2_score(pred,y_test)))"
      ],
      "metadata": {
        "id": "tZTihNUC1L5n"
      },
      "execution_count": null,
      "outputs": []
    },
    {
      "cell_type": "code",
      "source": [
        "sns.regplot(x=pred,y=y_test)\n",
        "plt.xlabel(\"Predicted Price\")\n",
        "plt.ylabel(\"Actual Price\")\n",
        "plt.title(\"Actual vs Predicted Price\")\n",
        "plt.show()"
      ],
      "metadata": {
        "colab": {
          "base_uri": "https://localhost:8080/",
          "height": 477
        },
        "collapsed": true,
        "id": "hOBsgeW-10jR",
        "outputId": "54785caf-dd9d-4805-acab-9a9a9dd054e5"
      },
      "execution_count": 67,
      "outputs": [
        {
          "output_type": "display_data",
          "data": {
            "text/plain": [
              "<Figure size 640x480 with 1 Axes>"
            ],
            "image/png": "[encoded data removed]"
          },
          "metadata": {}
        }
      ]
    },
    {
      "cell_type": "code",
      "source": [],
      "metadata": {
        "id": "A6GesiUB2iTx"
      },
      "execution_count": null,
      "outputs": []
    }
  ]
}